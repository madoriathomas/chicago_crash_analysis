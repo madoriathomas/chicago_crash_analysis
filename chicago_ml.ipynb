{
  "nbformat": 4,
  "nbformat_minor": 0,
  "metadata": {
    "colab": {
      "name": "chicago_ml.ipynb",
      "provenance": [],
      "machine_shape": "hm",
      "authorship_tag": "ABX9TyMXpRwvg3T660EQ4lJe6daz"
    },
    "kernelspec": {
      "name": "python3",
      "display_name": "Python 3"
    },
    "language_info": {
      "name": "python"
    }
  },
  "cells": [
    {
      "cell_type": "code",
      "execution_count": 1,
      "metadata": {
        "id": "YWNLmyHPkrQE"
      },
      "outputs": [],
      "source": [
        "#Importing dependencies\n",
        "import pandas as pd\n",
        "from sklearn.neighbors import KNeighborsClassifier\n",
        "from sklearn.impute import SimpleImputer\n",
        "from sklearn.pipeline import Pipeline\n",
        "from sklearn.compose import ColumnTransformer\n",
        "from sklearn.preprocessing import OneHotEncoder, FunctionTransformer, StandardScaler\n",
        "from imblearn.over_sampling import SMOTE\n",
        "from sklearn.ensemble import RandomForestClassifier, GradientBoostingClassifier\n",
        "from sklearn.model_selection import train_test_split, GridSearchCV, cross_validate\n",
        "from sklearn.metrics import plot_confusion_matrix, recall_score,\\\n",
        "    accuracy_score, precision_score, f1_score\n",
        "from sklearn.dummy import DummyRegressor, DummyClassifier\n",
        "import matplotlib.pyplot as plt\n",
        "import seaborn as sns \n",
        "from imblearn.pipeline import Pipeline as ImPipeline\n",
        "\n",
        "import warnings\n",
        "warnings.filterwarnings(\"ignore\")"
      ]
    },
    {
      "cell_type": "code",
      "source": [
        "from google.colab import drive\n",
        "drive.mount('/content/drive')"
      ],
      "metadata": {
        "colab": {
          "base_uri": "https://localhost:8080/"
        },
        "id": "3h59AwkYmECb",
        "outputId": "4d32219b-106c-467d-bf4f-197758f8e4d7"
      },
      "execution_count": 2,
      "outputs": [
        {
          "output_type": "stream",
          "name": "stdout",
          "text": [
            "Mounted at /content/drive\n"
          ]
        }
      ]
    },
    {
      "cell_type": "code",
      "source": [
        "df = pd.read_csv('/content/drive/MyDrive/crashes_clean', index_col=[0])\n",
        "df.head()"
      ],
      "metadata": {
        "colab": {
          "base_uri": "https://localhost:8080/",
          "height": 473
        },
        "id": "eOlGspzPmEFn",
        "outputId": "27eef3d4-90d1-44e4-d3ab-f9636ad6e611"
      },
      "execution_count": 3,
      "outputs": [
        {
          "output_type": "execute_result",
          "data": {
            "text/plain": [
              "      RD_NO              CRASH_DATE  POSTED_SPEED_LIMIT  \\\n",
              "0  JF146223  02/16/2022 11:30:00 AM                  15   \n",
              "1  JF145979  02/16/2022 08:24:00 AM                  30   \n",
              "2  JF146627  02/16/2022 05:14:00 PM                  30   \n",
              "3  JF155027  02/24/2022 06:01:00 PM                  30   \n",
              "4  JF151203  02/21/2022 09:29:00 AM                  30   \n",
              "\n",
              "  TRAFFIC_CONTROL_DEVICE      DEVICE_CONDITION WEATHER_CONDITION  \\\n",
              "0            NO CONTROLS           NO CONTROLS             CLEAR   \n",
              "1         TRAFFIC SIGNAL  FUNCTIONING PROPERLY             CLEAR   \n",
              "2                  OTHER                 OTHER              RAIN   \n",
              "3            NO CONTROLS           NO CONTROLS              SNOW   \n",
              "4      STOP SIGN/FLASHER  FUNCTIONING PROPERLY    FOG/SMOKE/HAZE   \n",
              "\n",
              "       LIGHTING_CONDITION          FIRST_CRASH_TYPE  \\\n",
              "0                DAYLIGHT              REAR TO REAR   \n",
              "1                DAYLIGHT  SIDESWIPE SAME DIRECTION   \n",
              "2  DARKNESS, LIGHTED ROAD                   TURNING   \n",
              "3  DARKNESS, LIGHTED ROAD                     ANGLE   \n",
              "4                DAYLIGHT                     ANGLE   \n",
              "\n",
              "                   TRAFFICWAY_TYPE           ALIGNMENT  ...  \\\n",
              "0                      PARKING LOT  STRAIGHT AND LEVEL  ...   \n",
              "1                         FOUR WAY  STRAIGHT AND LEVEL  ...   \n",
              "2  DIVIDED - W/MEDIAN (NOT RAISED)  STRAIGHT AND LEVEL  ...   \n",
              "3                      NOT DIVIDED  STRAIGHT AND LEVEL  ...   \n",
              "4                      NOT DIVIDED  STRAIGHT AND LEVEL  ...   \n",
              "\n",
              "               PRIM_CONTRIBUTORY_CAUSE STREET_NO STREET_DIRECTION  \\\n",
              "0  DRIVING SKILLS/KNOWLEDGE/EXPERIENCE      4650                W   \n",
              "1  DRIVING SKILLS/KNOWLEDGE/EXPERIENCE      9301                S   \n",
              "2        FAILING TO YIELD RIGHT-OF-WAY      6431                S   \n",
              "3        FAILING TO YIELD RIGHT-OF-WAY        19                E   \n",
              "4                  UNABLE TO DETERMINE      2000                E   \n",
              "\n",
              "         STREET_NAME BEAT_OF_OCCURRENCE NUM_UNITS        MOST_SEVERE_INJURY  \\\n",
              "0          NORTH AVE             2533.0         2   NO INDICATION OF INJURY   \n",
              "1  COTTAGE GROVE AVE              633.0         2   NO INDICATION OF INJURY   \n",
              "2         PULASKI RD              823.0         3  NONINCAPACITATING INJURY   \n",
              "3            21ST ST              131.0         2   NO INDICATION OF INJURY   \n",
              "4            70TH ST              331.0         2   NO INDICATION OF INJURY   \n",
              "\n",
              "  INJURIES_TOTAL   LATITUDE  LONGITUDE  \n",
              "0            0.0  41.909765 -87.743376  \n",
              "1            0.0  41.725625 -87.604417  \n",
              "2            1.0  41.775961 -87.722545  \n",
              "3            0.0  41.854146 -87.626206  \n",
              "4            0.0  41.768092 -87.576290  \n",
              "\n",
              "[5 rows x 25 columns]"
            ],
            "text/html": [
              "\n",
              "  <div id=\"df-23677412-ab8e-4d48-9935-731ec4ebcd4b\">\n",
              "    <div class=\"colab-df-container\">\n",
              "      <div>\n",
              "<style scoped>\n",
              "    .dataframe tbody tr th:only-of-type {\n",
              "        vertical-align: middle;\n",
              "    }\n",
              "\n",
              "    .dataframe tbody tr th {\n",
              "        vertical-align: top;\n",
              "    }\n",
              "\n",
              "    .dataframe thead th {\n",
              "        text-align: right;\n",
              "    }\n",
              "</style>\n",
              "<table border=\"1\" class=\"dataframe\">\n",
              "  <thead>\n",
              "    <tr style=\"text-align: right;\">\n",
              "      <th></th>\n",
              "      <th>RD_NO</th>\n",
              "      <th>CRASH_DATE</th>\n",
              "      <th>POSTED_SPEED_LIMIT</th>\n",
              "      <th>TRAFFIC_CONTROL_DEVICE</th>\n",
              "      <th>DEVICE_CONDITION</th>\n",
              "      <th>WEATHER_CONDITION</th>\n",
              "      <th>LIGHTING_CONDITION</th>\n",
              "      <th>FIRST_CRASH_TYPE</th>\n",
              "      <th>TRAFFICWAY_TYPE</th>\n",
              "      <th>ALIGNMENT</th>\n",
              "      <th>...</th>\n",
              "      <th>PRIM_CONTRIBUTORY_CAUSE</th>\n",
              "      <th>STREET_NO</th>\n",
              "      <th>STREET_DIRECTION</th>\n",
              "      <th>STREET_NAME</th>\n",
              "      <th>BEAT_OF_OCCURRENCE</th>\n",
              "      <th>NUM_UNITS</th>\n",
              "      <th>MOST_SEVERE_INJURY</th>\n",
              "      <th>INJURIES_TOTAL</th>\n",
              "      <th>LATITUDE</th>\n",
              "      <th>LONGITUDE</th>\n",
              "    </tr>\n",
              "  </thead>\n",
              "  <tbody>\n",
              "    <tr>\n",
              "      <th>0</th>\n",
              "      <td>JF146223</td>\n",
              "      <td>02/16/2022 11:30:00 AM</td>\n",
              "      <td>15</td>\n",
              "      <td>NO CONTROLS</td>\n",
              "      <td>NO CONTROLS</td>\n",
              "      <td>CLEAR</td>\n",
              "      <td>DAYLIGHT</td>\n",
              "      <td>REAR TO REAR</td>\n",
              "      <td>PARKING LOT</td>\n",
              "      <td>STRAIGHT AND LEVEL</td>\n",
              "      <td>...</td>\n",
              "      <td>DRIVING SKILLS/KNOWLEDGE/EXPERIENCE</td>\n",
              "      <td>4650</td>\n",
              "      <td>W</td>\n",
              "      <td>NORTH AVE</td>\n",
              "      <td>2533.0</td>\n",
              "      <td>2</td>\n",
              "      <td>NO INDICATION OF INJURY</td>\n",
              "      <td>0.0</td>\n",
              "      <td>41.909765</td>\n",
              "      <td>-87.743376</td>\n",
              "    </tr>\n",
              "    <tr>\n",
              "      <th>1</th>\n",
              "      <td>JF145979</td>\n",
              "      <td>02/16/2022 08:24:00 AM</td>\n",
              "      <td>30</td>\n",
              "      <td>TRAFFIC SIGNAL</td>\n",
              "      <td>FUNCTIONING PROPERLY</td>\n",
              "      <td>CLEAR</td>\n",
              "      <td>DAYLIGHT</td>\n",
              "      <td>SIDESWIPE SAME DIRECTION</td>\n",
              "      <td>FOUR WAY</td>\n",
              "      <td>STRAIGHT AND LEVEL</td>\n",
              "      <td>...</td>\n",
              "      <td>DRIVING SKILLS/KNOWLEDGE/EXPERIENCE</td>\n",
              "      <td>9301</td>\n",
              "      <td>S</td>\n",
              "      <td>COTTAGE GROVE AVE</td>\n",
              "      <td>633.0</td>\n",
              "      <td>2</td>\n",
              "      <td>NO INDICATION OF INJURY</td>\n",
              "      <td>0.0</td>\n",
              "      <td>41.725625</td>\n",
              "      <td>-87.604417</td>\n",
              "    </tr>\n",
              "    <tr>\n",
              "      <th>2</th>\n",
              "      <td>JF146627</td>\n",
              "      <td>02/16/2022 05:14:00 PM</td>\n",
              "      <td>30</td>\n",
              "      <td>OTHER</td>\n",
              "      <td>OTHER</td>\n",
              "      <td>RAIN</td>\n",
              "      <td>DARKNESS, LIGHTED ROAD</td>\n",
              "      <td>TURNING</td>\n",
              "      <td>DIVIDED - W/MEDIAN (NOT RAISED)</td>\n",
              "      <td>STRAIGHT AND LEVEL</td>\n",
              "      <td>...</td>\n",
              "      <td>FAILING TO YIELD RIGHT-OF-WAY</td>\n",
              "      <td>6431</td>\n",
              "      <td>S</td>\n",
              "      <td>PULASKI RD</td>\n",
              "      <td>823.0</td>\n",
              "      <td>3</td>\n",
              "      <td>NONINCAPACITATING INJURY</td>\n",
              "      <td>1.0</td>\n",
              "      <td>41.775961</td>\n",
              "      <td>-87.722545</td>\n",
              "    </tr>\n",
              "    <tr>\n",
              "      <th>3</th>\n",
              "      <td>JF155027</td>\n",
              "      <td>02/24/2022 06:01:00 PM</td>\n",
              "      <td>30</td>\n",
              "      <td>NO CONTROLS</td>\n",
              "      <td>NO CONTROLS</td>\n",
              "      <td>SNOW</td>\n",
              "      <td>DARKNESS, LIGHTED ROAD</td>\n",
              "      <td>ANGLE</td>\n",
              "      <td>NOT DIVIDED</td>\n",
              "      <td>STRAIGHT AND LEVEL</td>\n",
              "      <td>...</td>\n",
              "      <td>FAILING TO YIELD RIGHT-OF-WAY</td>\n",
              "      <td>19</td>\n",
              "      <td>E</td>\n",
              "      <td>21ST ST</td>\n",
              "      <td>131.0</td>\n",
              "      <td>2</td>\n",
              "      <td>NO INDICATION OF INJURY</td>\n",
              "      <td>0.0</td>\n",
              "      <td>41.854146</td>\n",
              "      <td>-87.626206</td>\n",
              "    </tr>\n",
              "    <tr>\n",
              "      <th>4</th>\n",
              "      <td>JF151203</td>\n",
              "      <td>02/21/2022 09:29:00 AM</td>\n",
              "      <td>30</td>\n",
              "      <td>STOP SIGN/FLASHER</td>\n",
              "      <td>FUNCTIONING PROPERLY</td>\n",
              "      <td>FOG/SMOKE/HAZE</td>\n",
              "      <td>DAYLIGHT</td>\n",
              "      <td>ANGLE</td>\n",
              "      <td>NOT DIVIDED</td>\n",
              "      <td>STRAIGHT AND LEVEL</td>\n",
              "      <td>...</td>\n",
              "      <td>UNABLE TO DETERMINE</td>\n",
              "      <td>2000</td>\n",
              "      <td>E</td>\n",
              "      <td>70TH ST</td>\n",
              "      <td>331.0</td>\n",
              "      <td>2</td>\n",
              "      <td>NO INDICATION OF INJURY</td>\n",
              "      <td>0.0</td>\n",
              "      <td>41.768092</td>\n",
              "      <td>-87.576290</td>\n",
              "    </tr>\n",
              "  </tbody>\n",
              "</table>\n",
              "<p>5 rows × 25 columns</p>\n",
              "</div>\n",
              "      <button class=\"colab-df-convert\" onclick=\"convertToInteractive('df-23677412-ab8e-4d48-9935-731ec4ebcd4b')\"\n",
              "              title=\"Convert this dataframe to an interactive table.\"\n",
              "              style=\"display:none;\">\n",
              "        \n",
              "  <svg xmlns=\"http://www.w3.org/2000/svg\" height=\"24px\"viewBox=\"0 0 24 24\"\n",
              "       width=\"24px\">\n",
              "    <path d=\"M0 0h24v24H0V0z\" fill=\"none\"/>\n",
              "    <path d=\"M18.56 5.44l.94 2.06.94-2.06 2.06-.94-2.06-.94-.94-2.06-.94 2.06-2.06.94zm-11 1L8.5 8.5l.94-2.06 2.06-.94-2.06-.94L8.5 2.5l-.94 2.06-2.06.94zm10 10l.94 2.06.94-2.06 2.06-.94-2.06-.94-.94-2.06-.94 2.06-2.06.94z\"/><path d=\"M17.41 7.96l-1.37-1.37c-.4-.4-.92-.59-1.43-.59-.52 0-1.04.2-1.43.59L10.3 9.45l-7.72 7.72c-.78.78-.78 2.05 0 2.83L4 21.41c.39.39.9.59 1.41.59.51 0 1.02-.2 1.41-.59l7.78-7.78 2.81-2.81c.8-.78.8-2.07 0-2.86zM5.41 20L4 18.59l7.72-7.72 1.47 1.35L5.41 20z\"/>\n",
              "  </svg>\n",
              "      </button>\n",
              "      \n",
              "  <style>\n",
              "    .colab-df-container {\n",
              "      display:flex;\n",
              "      flex-wrap:wrap;\n",
              "      gap: 12px;\n",
              "    }\n",
              "\n",
              "    .colab-df-convert {\n",
              "      background-color: #E8F0FE;\n",
              "      border: none;\n",
              "      border-radius: 50%;\n",
              "      cursor: pointer;\n",
              "      display: none;\n",
              "      fill: #1967D2;\n",
              "      height: 32px;\n",
              "      padding: 0 0 0 0;\n",
              "      width: 32px;\n",
              "    }\n",
              "\n",
              "    .colab-df-convert:hover {\n",
              "      background-color: #E2EBFA;\n",
              "      box-shadow: 0px 1px 2px rgba(60, 64, 67, 0.3), 0px 1px 3px 1px rgba(60, 64, 67, 0.15);\n",
              "      fill: #174EA6;\n",
              "    }\n",
              "\n",
              "    [theme=dark] .colab-df-convert {\n",
              "      background-color: #3B4455;\n",
              "      fill: #D2E3FC;\n",
              "    }\n",
              "\n",
              "    [theme=dark] .colab-df-convert:hover {\n",
              "      background-color: #434B5C;\n",
              "      box-shadow: 0px 1px 3px 1px rgba(0, 0, 0, 0.15);\n",
              "      filter: drop-shadow(0px 1px 2px rgba(0, 0, 0, 0.3));\n",
              "      fill: #FFFFFF;\n",
              "    }\n",
              "  </style>\n",
              "\n",
              "      <script>\n",
              "        const buttonEl =\n",
              "          document.querySelector('#df-23677412-ab8e-4d48-9935-731ec4ebcd4b button.colab-df-convert');\n",
              "        buttonEl.style.display =\n",
              "          google.colab.kernel.accessAllowed ? 'block' : 'none';\n",
              "\n",
              "        async function convertToInteractive(key) {\n",
              "          const element = document.querySelector('#df-23677412-ab8e-4d48-9935-731ec4ebcd4b');\n",
              "          const dataTable =\n",
              "            await google.colab.kernel.invokeFunction('convertToInteractive',\n",
              "                                                     [key], {});\n",
              "          if (!dataTable) return;\n",
              "\n",
              "          const docLinkHtml = 'Like what you see? Visit the ' +\n",
              "            '<a target=\"_blank\" href=https://colab.research.google.com/notebooks/data_table.ipynb>data table notebook</a>'\n",
              "            + ' to learn more about interactive tables.';\n",
              "          element.innerHTML = '';\n",
              "          dataTable['output_type'] = 'display_data';\n",
              "          await google.colab.output.renderOutput(dataTable, element);\n",
              "          const docLink = document.createElement('div');\n",
              "          docLink.innerHTML = docLinkHtml;\n",
              "          element.appendChild(docLink);\n",
              "        }\n",
              "      </script>\n",
              "    </div>\n",
              "  </div>\n",
              "  "
            ]
          },
          "metadata": {},
          "execution_count": 3
        }
      ]
    },
    {
      "cell_type": "code",
      "source": [
        "\"\"\"\n",
        "Here I'm creating my train-test-split and setting my target variable. \n",
        "'PRIM_CONTRIBUTORY_CAUSE' is the target since we are looking for the possible cause\n",
        "of accidents on the road in relation to the other columns\n",
        "\n",
        "\"\"\"\n",
        "X = df.drop('PRIM_CONTRIBUTORY_CAUSE', axis=1)\n",
        "y = df['PRIM_CONTRIBUTORY_CAUSE']\n",
        "\n",
        "X_train, X_test, y_train, y_test = train_test_split(X, y, random_state=19651609)"
      ],
      "metadata": {
        "id": "r0kuM-B3mEJU"
      },
      "execution_count": 4,
      "outputs": []
    },
    {
      "cell_type": "code",
      "source": [
        "categorical_columns= X.select_dtypes(include= 'object').columns\n",
        "numeric_columns= X.select_dtypes(exclude= 'object').columns"
      ],
      "metadata": {
        "id": "ahwUxgPvmEMs"
      },
      "execution_count": 5,
      "outputs": []
    },
    {
      "cell_type": "code",
      "source": [
        "numeric_transformer = Pipeline(\n",
        "    steps=[(\"imputer\", SimpleImputer(strategy=\"median\", add_indicator=True)), (\"scaler\", StandardScaler())])\n",
        "\n",
        "categorical_transformer = Pipeline(\n",
        "    steps=[('imputer', SimpleImputer(strategy='most_frequent')), ('encoder', OneHotEncoder(handle_unknown='ignore'))])\n",
        "\n",
        "preprocessor = ColumnTransformer(\n",
        "    transformers=[\n",
        "        (\"num\", numeric_transformer, numeric_columns),\n",
        "        (\"cat\", categorical_transformer, categorical_columns)])"
      ],
      "metadata": {
        "id": "1MicFbrEoPFG"
      },
      "execution_count": 6,
      "outputs": []
    },
    {
      "cell_type": "markdown",
      "source": [
        "Here I am instantiating and fitting a dummy classification model just to check out my odds against random chance. It's not really a necessary step, but I'm using this basic score as my baseline model accuracy. "
      ],
      "metadata": {
        "id": "F0ym77HcsodO"
      }
    },
    {
      "cell_type": "code",
      "source": [
        "dummy = DummyClassifier()\n",
        "dummy.fit(X_train, y_train)\n",
        "dummy.score(X_train, y_train)"
      ],
      "metadata": {
        "colab": {
          "base_uri": "https://localhost:8080/"
        },
        "id": "HwzpomuCoPIc",
        "outputId": "2bdf1a87-d487-4642-ed44-e0057adae38d"
      },
      "execution_count": 7,
      "outputs": [
        {
          "output_type": "execute_result",
          "data": {
            "text/plain": [
              "0.43105483035750347"
            ]
          },
          "metadata": {},
          "execution_count": 7
        }
      ]
    },
    {
      "cell_type": "code",
      "source": [
        "dummy.score(X_test, y_test)"
      ],
      "metadata": {
        "colab": {
          "base_uri": "https://localhost:8080/"
        },
        "id": "8cOt1T6CoPL_",
        "outputId": "b0e5c79d-4244-4177-fd30-4378385d0bc1"
      },
      "execution_count": 8,
      "outputs": [
        {
          "output_type": "execute_result",
          "data": {
            "text/plain": [
              "0.429688762048355"
            ]
          },
          "metadata": {},
          "execution_count": 8
        }
      ]
    },
    {
      "cell_type": "code",
      "source": [
        "plot_confusion_matrix(dummy, X_test, y_test);"
      ],
      "metadata": {
        "colab": {
          "base_uri": "https://localhost:8080/",
          "height": 279
        },
        "id": "mE9KqyCgppPx",
        "outputId": "f24eb7b5-a8fc-450f-afa5-ff79c6e18012"
      },
      "execution_count": 9,
      "outputs": [
        {
          "output_type": "display_data",
          "data": {
            "text/plain": [
              "<Figure size 432x288 with 2 Axes>"
            ],
            "image/png": "[encoded data removed]"
          },
          "metadata": {
            "needs_background": "light"
          }
        }
      ]
    },
    {
      "cell_type": "markdown",
      "source": [
        "## Random Forest Iterations"
      ],
      "metadata": {
        "id": "t7u_QeM0qk-M"
      }
    },
    {
      "cell_type": "code",
      "source": [
        "# Here I went on and balanced the classes as I know that an imbalance exists\n",
        "# I want to get my basic rf score before gridsearching for comparisons sake\n",
        "rf_model = Pipeline(steps=[('clean', preprocessor), ('rf', RandomForestClassifier(class_weight='balanced'))])\n",
        "rf_model.fit(X_train, y_train)\n",
        "\n",
        "print(f'This is the basic training score: {rf_model.score(X_train, y_train)}')\n",
        "print(f'This is the basic testing score: {rf_model.score(X_test, y_test)}')"
      ],
      "metadata": {
        "id": "BaEPFZSNppSr"
      },
      "execution_count": null,
      "outputs": []
    },
    {
      "cell_type": "code",
      "source": [
        "rf_model = Pipeline(steps=[('clean', preprocessor), \n",
        "                           ('rf', RandomForestClassifier(class_weight='balanced'))])\n",
        "\n",
        "parameters = {'rf__n_estimators': [50, 100, 150, 200]}\n",
        "\n",
        "rf_gs = GridSearchCV(estimator=rf_model,\n",
        "                 param_grid=parameters,\n",
        "                 cv=5, error_score= 'raise')\n",
        "\n",
        "rf_gs.fit(X_train, y_train)\n",
        "\n",
        "print(f'This is the 1st grid search training score: {rf_gs.score(X_train, y_train)}')\n",
        "print(f'This is the 1st grid search testing score: {rf_gs.score(X_test, y_test)}')\n",
        "print(f\"This is the 1st grid search's best parameters': {rf_gs.best_params_}\")"
      ],
      "metadata": {
        "id": "9pLWaPFKppWC"
      },
      "execution_count": null,
      "outputs": []
    },
    {
      "cell_type": "code",
      "source": [
        "parameters = {'rf__max_samples_split': [2, 5, 10]}\n",
        "\n",
        "rf_gs2 = GridSearchCV(estimator=rf_model,\n",
        "                 param_grid=parameters,\n",
        "                 cv=5, error_score= 'raise')\n",
        "\n",
        "rf_gs2.fit(X_train, y_train)\n",
        "\n",
        "print(f'This is the 2nd grid search training score: {rf_gs2.score(X_train, y_train)}')\n",
        "print(f'This is the 2nd grid search testing score: {rf_gs2.score(X_test, y_test)}')\n",
        "print(f\"This is the 2nd grid search's best parameters': {rf_gs2.best_params_}\")"
      ],
      "metadata": {
        "id": "9D2RzCRd0FjI"
      },
      "execution_count": null,
      "outputs": []
    },
    {
      "cell_type": "code",
      "source": [
        ""
      ],
      "metadata": {
        "id": "qtJRKeDP0FnC"
      },
      "execution_count": null,
      "outputs": []
    },
    {
      "cell_type": "code",
      "source": [
        ""
      ],
      "metadata": {
        "id": "EO0cqvo10FrN"
      },
      "execution_count": null,
      "outputs": []
    },
    {
      "cell_type": "code",
      "source": [
        ""
      ],
      "metadata": {
        "id": "QLuUhq5X0Fuq"
      },
      "execution_count": null,
      "outputs": []
    },
    {
      "cell_type": "code",
      "source": [
        ""
      ],
      "metadata": {
        "id": "v4RVTma5q31A"
      },
      "execution_count": null,
      "outputs": []
    },
    {
      "cell_type": "code",
      "source": [
        ""
      ],
      "metadata": {
        "id": "wyXgFd4Pq34K"
      },
      "execution_count": null,
      "outputs": []
    },
    {
      "cell_type": "code",
      "source": [
        ""
      ],
      "metadata": {
        "id": "uHWhT6Pkq376"
      },
      "execution_count": null,
      "outputs": []
    },
    {
      "cell_type": "code",
      "source": [
        ""
      ],
      "metadata": {
        "id": "jTW3H1LJq3_d"
      },
      "execution_count": null,
      "outputs": []
    },
    {
      "cell_type": "code",
      "source": [
        ""
      ],
      "metadata": {
        "id": "snNgAnaZppa-"
      },
      "execution_count": null,
      "outputs": []
    }
  ]
}